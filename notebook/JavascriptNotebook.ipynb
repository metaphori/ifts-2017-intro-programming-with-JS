{
 "cells": [
  {
   "cell_type": "markdown",
   "metadata": {},
   "source": [
    "# Notebook\n",
    "\n",
    "Questo è un \"quaderno\" per imparare le basi della programmazione nel linguaggio JavaScript."
   ]
  },
  {
   "cell_type": "markdown",
   "metadata": {},
   "source": [
    "## Programma\n",
    "\n",
    "### Parte 0: Introduzione\n",
    "\n",
    "1. Presentazioni\n",
    "1. Descrizione modulo: obiettivi, modalità, contenuti\n",
    "1. Rudimenti: cos'è il software, ciclo di sviluppo del software\n",
    "1. Introduzione alla programmazione\n",
    "1. Impostazione dell'ambiente di lavoro\n",
    "\n",
    "### Parte 1: Elementi di base della programmazione in JavaScript\n",
    "\n",
    "1. Introduzione a JavaScript\n",
    "1. Tipi di dato\n",
    "1. Variabili e dichiarazioni\n",
    "1. Espressioni\n",
    "1. Istruzioni di controllo\n",
    "1. Elementi di programmazione funzionale\n",
    "1. Elementi di programmazione orientata agli oggetti\n",
    "\n",
    "### Parte 2: Da JavaScript a Java/C#\n",
    "\n",
    "1. Sulla tipizzazione dei linguaggi "
   ]
  },
  {
   "cell_type": "markdown",
   "metadata": {},
   "source": [
    "## Risorse\n",
    "\n",
    "### Html.it: Guida JavaScript di Base\n",
    "\n",
    "http://www.html.it/guide/guida-javascript-di-base/\n",
    "\n",
    "Outline commentato ed espanso\n",
    "\n",
    "1. Introduzione a JavaScript\n",
    "    - Popolarità e ruolo nello sviluppo Web moderno\n",
    "    - Storia ed evoluzione del linguaggio: ECMAScript, AJAX, librerie, utilizzo server-side, evoluzione tecnica (ES6)\n",
    "1. Gli strumenti di lavoro\n",
    "    - Editor, interprete/compilatore (engine), debugger\n",
    "    - Strumenti di sviluppo nei browser: console\n",
    "1. ECMAScript6 e il supporto dei browser\n",
    "    - Transpiler: TypeScript, Traceur, Babel\n",
    "1. JS e HTML, librerie e codice JavaScript esterno\n",
    "    - Inserire codice JS in una pagina HTML: inline su attributi HTML, blocchi di codice nella pagina con, JavaScript esterno\n",
    "1. Commenti, punti e virgola e maiuscola\n",
    "    - Punto e virgola è opzionale ma buona pratica usarlo\n",
    "    - Case-sensitiveness\n",
    "    - Commenti: singola linea //, e multilinea /* */\n",
    "1. Stringhe, numeri e altri tipi di dati JavaScript\n",
    "    - 5 tipi primitivi: numeri, stringhe, booleani, Null, Undefined\n",
    "    - 1 tipo di dato complesso (oggetti) da cui derivano altri elementi (ad es. array, regexps, funzioni, ...)\n",
    "    - Conversione automatica dati primitivi a oggetti wrapper\n",
    "    - Stringhe: sintassi (singoli o doppi apici), escaping e caratteri speciali\n",
    "    - Numeri: interi e float; internamente rappresentati tutti come floating point; `Infinity`; `NaN`\n",
    "    - `null`: rappresenta nessun valore; è di tipo Null (anche se typeof riporta \"object\"); può essere visto come \"puntatore vuoto ad oggetto\" \n",
    "    - `undefined`: è il valore assegnato a una variabile che non è inizializzata \n",
    "    - Tipizzazione debole e dinamica: l'informazione di tipo è acquisita a runtime (tipizzazione dinamica), conversioni implicite fra tipi (tipizzazione debole)  \n",
    "1. Variabili, costanti e dichiarazioni\n",
    "    - Con `var`; nomi validi per variabili; le variabili possono possono contenere, nel tempo, valori di tipi diversi\n",
    "    - Dichiarazione implicita di variabili (senza `var`, in realtà è assegnamento di proprietà sull'oggetto globale)\n",
    "    - Strict mode: da ES5, modalità meno permissiva (attivabile via `\"use strict\";` all'inizio di uno script o di una funziona) per ottenere errori in caso di utilizzo \"poco buono\" di JS\n",
    "    - Costanti: dichiarabili con parola chiave `const`\n",
    "1. Espressioni e operatori\n",
    "    - Espressioni: composizione di elementi la cui valutazione risulta in un valore\n",
    "    - Operatori: costrutti per la combinazione di valori; possono essere unari, binari, ternari a seconda del numero di valori che ricevono\n",
    "    - Operatori aritmetici: `+, -, *, /, %`; quelli unari sono negazione `-2`, incremento/decremento `x++` (notazione postfissa: \"prima ritorna, poi opera\"), `--x` (notazione prefissa: \"prima opera, poi ritorna\")\n",
    "    - Operazioni relazionali: `>, >=, <, <=, ==, !=`; particolari sono `===` (strettamente uguale) e `!==` (strettamente diverso)\n",
    "    - Operatori logici: `&&, ||, !`\n",
    "    - Operatori bitwise: `&, |, ^, ~, <<, >>`\n",
    "    - Operatore di assegnamento: `=` (restituisce il valore dell'espressione assegnata, ma non quando una variabile è dichiarata con `var`, faccenda un po' complicata: http://stackoverflow.com/questions/22844840/why-does-javascript-variable-declaration-at-console-results-in-undefined-being)\n",
    "    - Operatore condizionale (o ternario): `cond ? thenExpr : elseExpr`\n",
    "    - Operatori di assegnamento composti: `x += y; x /= y;` etc.\n",
    "    - Concatenazione di stringhe: `\"ab\"+\"cd\" // \"abcd\"`\n",
    "1. Conversioni tra tipi di variabili\n",
    "    - Da tipo a booleano: valori falsi sono `undefined, null, 0, NaN, \"\"`\n",
    "    - Da tipo a numero: `undefined` -> `NaN`, `false` -> 0, `true` -> 1, `null`->0, valori stringa dipendentemente dal valori\n",
    "    - Da tipo a stringa: i valori mantengono la rappresentazione (e.g., `NaN`->\"NaN\", `null`->\"null\", ecc.)\n",
    "    - Operatori polimorfi: `+` (somma numeri, concatenazione stringhe se almeno un operando è stringa), operatori relazionali (se nessuno dei due operandi è un numero, allora viene eseguito un confronto tra stringhe, altrimenti viene eseguito un confronto tra numeri), operatori di confronto `!=,==` (e entrambi gli operatori sono stringhe allora viene effettuato un confronto tra stringhe, altrimenti si esegue un confronto tra numeri; unica eccezione è `null == undefined` che è vera per definizione)\n",
    "    - Assegnamento condizionale: `var x = y || \"\"`\n",
    "    - Uguaglianza e disuguaglianza strette: confrontano gli operando senza effettuare alcuna conversione\n",
    "    - Evitare le conversioni implicite: conversioni esplicite (`parseInt(s), parseFloat(s)`), verifica di tipo (`typeof 77 == \"number\"`)\n",
    "1. Definire Array in JavaScript\n",
    "    - La nozione di array (in JavaScript): collezione eterogenea di elementi indicizzati (0-indexed)\n",
    "    - Sintassi: definizione letterale\n",
    "    - Array multidimensionali\n",
    "    - Destrutturazione dell'assegnamento (da ES6)\n",
    "1. IF, istruzioni condizionali e blocchi di codice\n",
    "    - L'IF fa parte dei costrutti di controllo del flusso (https://it.wikipedia.org/wiki/Struttura_di_controllo)\n",
    "    - Approfondimento: programmazione imperativa (https://it.wikipedia.org/wiki/Programmazione_imperativa), programmazione strutturata (https://it.wikipedia.org/wiki/Programmazione_strutturata)\n",
    "    - Blocchi di codice: insiemi di istruzioni racchiusi tra parentesi graffe\n",
    "    - `if(c){ t }`\n",
    "    - `if(c){ t } else { e }`\n",
    "    - `if(c){ t1 } else if(c2){ t2 } else { e }` (esprimibile con if-else annidati)\n",
    "1. If-else e switch-case, combinare più condizioni\n",
    "    - Switch: `switch(c){ case e1: ...; break; case e2: ...; break; default: ... }`\n",
    "1. While e do-while, le iterazioni di base\n",
    "    - `while(c){ ... }`\n",
    "    - `do { ... } while(c);`\n",
    "1. I cicli for\n",
    "    - `for(init; cond; mod){ ... }`\n",
    "    - Inizializzazioni multiple o vuote\n",
    "    - for-in: per iterare sulle proprietà iterabili di oggetti\n",
    "    - for-of: nuovo modo (ES6) per iterare su oggetti iterabili, basato sulla proprietà interna [Symbol.iterator]\n",
    "1. Break e continue\n",
    "1. Funzioni in JavaScript: i fondamentali\n",
    "    - Definizione\n",
    "    - Invocazione\n",
    "    - Istruzione `return`\n",
    "    - Parametri (formali) e argomenti (parametri attuali) di funzioni; concetto di \"arità\"\n",
    "    - Flessibilità invocazione di funzione rispetto al numero di parametri forniti\n",
    "    - L'array `arguments` tiene traccia degli argomenti con cui la funzione è stata invocata\n",
    "    - Argomenti con valori di default\n",
    "    - Da ES6: \"rest parameter\" `function(a,...r){ }` e operatore di \"spread\" `f(...[1,2,3])`\n",
    "    - `return` vuota o non specificata: la funzione ritorna valore `undefined`\n",
    "1. Variabili globali e locali: lo scope\n",
    "    - Scope (ambito di visibilità) di variabili\n",
    "    - Variabili locali: dichiarate all'interno di una funzione\n",
    "    - Variabili globali: dichiarate fuori a qualsiasi funzione\n",
    "    - Nota: dichiarare una variabile all'interno di un blocco di codice non crea un nuovo scope per la variabile\n",
    "    - Da ES6: l'istruzione `let` (e `const`) limita lo scope di una variabile al blocco corrente (si parla dunque di dichiarazioni a livello di blocco)\n",
    "1. Funzioni predefinite\n",
    "    - `parseInt`, `parseFloat`\n",
    "    - `isNan`, `isFinite` (restituisce true se l'argomento è diverso da `Infinity` e da `NaN`)\n",
    "    - `escape` e `unescape` (entrambe deprecate)\n",
    "    - `encodeURI`, `decodeURI`, `encodeURIComponent`, `decodeURIComponent`\n",
    "    - `eval`: accetta una stringa e la interpreta come codice JavaScript\n",
    "1. Oggetti JavaScript: proprietà, metodi, this\n",
    "    - Programmazione orientata agli oggetti: oggetti, incapsulamento\n",
    "    - Object literal\n",
    "    - Proprietà; dot-notation; array-notation; creazione per definizione\n",
    "    - Metodi\n",
    "    - `this`\n",
    "1. Tipi primitivi, oggetti e riferimenti\n",
    "    - Differenza tra tipi di dato primitivi e oggetti: mentre i primi sono manipolati \"per valore\", i secondi \"per riferimento\"\n",
    "    - Creazione oggetti mediante `new` e costruttore `Object`\n",
    "    - Metodi ereditati da `Object`: `toString` (conversione oggetto a stringa), `valueOf` (conversione oggetto a tipo primitivo); questi metodi sono chiamati implicitamente da JavaScript in alcune situazioni.\n",
    "    - `valueOf` è chiamato implicitamente ogni volta che un oggetto è usato con un operatore\n",
    "    - `toString` è chiamato implicitamente quando l'oggetto è utilizzato in una situazione in cui ci si aspetta una stringa"
   ]
  },
  {
   "cell_type": "markdown",
   "metadata": {},
   "source": [
    "## Contenuti"
   ]
  },
  {
   "cell_type": "markdown",
   "metadata": {},
   "source": [
    "### Presentazioni\n",
    "\n",
    "* Chi sono\n",
    "* Chi siete\n",
    "    - Competenze 'al computer', con la programmazione, con linguaggi imperativi/object-oriented, con JavaScript\n",
    "\n",
    "### Descrizione modulo\n",
    "\n",
    "Corso di introduzione alla programmazione\n",
    "* Pragmatico, operativo, abilitante, di base\n",
    "\n",
    "#### Obiettivi\n",
    "\n",
    "* Alla fine del modulo, si è in grado di comprendere e scrivere piccoli programmi, già orientati a contesti applicativi specifici (ad es. web)\n",
    "\n",
    "#### Modalità\n",
    "\n",
    "* Teoria minimale e approccio pratico\n",
    "\n",
    "#### Contenuti\n",
    "\n",
    "* Rudimenti: software e programmazione\n",
    "* Basi della programmazione in JavaScript\n",
    "\n",
    "#### Risorse\n",
    "\n",
    "* http://www.html.it/guide/guida-javascript-di-base/ -- in italiano, taglio introduttivo\n",
    "\n",
    "#### Consigli\n",
    "\n",
    "* La programmazione (così come una lingua) non si impara a lezione, né sui libri: si impara mettendo in pratica, sperimentando, e utilizzando un approccio (pro)attivo\n",
    "    - Prendere appunti\n",
    "    - Idealmente, per gran parte, gli appunti dovrebbero essere il codice stesso\n",
    "* In caso di dubbi, fate domande: potrebbero servire a tutti"
   ]
  },
  {
   "cell_type": "markdown",
   "metadata": {},
   "source": [
    "### Rudimenti\n",
    "\n",
    "#### Cos'è il software\n",
    "\n",
    "#### Ciclo di sviluppo del software"
   ]
  },
  {
   "cell_type": "markdown",
   "metadata": {},
   "source": [
    "### Introduzione alla programmazione"
   ]
  },
  {
   "cell_type": "markdown",
   "metadata": {},
   "source": [
    "### Impostazione dell'ambiente di lavoro"
   ]
  },
  {
   "cell_type": "code",
   "execution_count": 1,
   "metadata": {
    "collapsed": false
   },
   "outputs": [
    {
     "name": "stdout",
     "output_type": "stream",
     "text": [
      "Hello world\n"
     ]
    },
    {
     "data": {
      "text/plain": [
       "undefined"
      ]
     },
     "execution_count": 1,
     "metadata": {},
     "output_type": "execute_result"
    }
   ],
   "source": [
    "console.log(\"Hello world\")"
   ]
  },
  {
   "cell_type": "code",
   "execution_count": null,
   "metadata": {
    "collapsed": true
   },
   "outputs": [],
   "source": []
  }
 ],
 "metadata": {
  "kernelspec": {
   "display_name": "Javascript (Node.js)",
   "language": "javascript",
   "name": "javascript"
  },
  "language_info": {
   "file_extension": ".js",
   "mimetype": "application/javascript",
   "name": "javascript",
   "version": "0.12.7"
  }
 },
 "nbformat": 4,
 "nbformat_minor": 0
}
